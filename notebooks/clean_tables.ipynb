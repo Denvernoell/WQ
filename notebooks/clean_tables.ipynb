{
 "cells": [
  {
   "cell_type": "markdown",
   "metadata": {},
   "source": [
    "This was used to deal with hidden rows that were present in the original data. These were removed because they are read into the dataframe but should be ignored"
   ]
  },
  {
   "cell_type": "code",
   "execution_count": 1,
   "metadata": {},
   "outputs": [],
   "source": [
    "import xlwings as xw\n",
    "wb = xw.Book('tables\\\\Basin MT Tables.xlsx')"
   ]
  },
  {
   "cell_type": "code",
   "execution_count": null,
   "metadata": {},
   "outputs": [],
   "source": [
    "def remove_hidden_rows(wb):\n",
    "\tfor sheet in wb.sheets:\n",
    "\t\tfor row in sheet.used_range.rows:\n",
    "\t\t\tif row.api.EntireRow.Hidden:\n",
    "\t\t\t\trow.api.EntireRow.Delete()\n",
    "remove_hidden_rows(wb)"
   ]
  },
  {
   "cell_type": "code",
   "execution_count": 2,
   "metadata": {},
   "outputs": [],
   "source": [
    "def unhide_hidden_rows(wb):\n",
    "\tfor sheet in wb.sheets:\n",
    "\t\tfor row in sheet.used_range.rows:\n",
    "\t\t\tif row.api.EntireRow.Hidden:\n",
    "\t\t\t\trow.api.EntireRow.Hidden = False\n",
    "unhide_hidden_rows(wb)"
   ]
  }
 ],
 "metadata": {
  "kernelspec": {
   "display_name": "Python 3.10.4 ('pandas-analysis-pSGX_PKJ-py3.10')",
   "language": "python",
   "name": "python3"
  },
  "language_info": {
   "codemirror_mode": {
    "name": "ipython",
    "version": 3
   },
   "file_extension": ".py",
   "mimetype": "text/x-python",
   "name": "python",
   "nbconvert_exporter": "python",
   "pygments_lexer": "ipython3",
   "version": "3.10.4"
  },
  "orig_nbformat": 4,
  "vscode": {
   "interpreter": {
    "hash": "017bf9b655c26cc9684d72cf80cbc3448421050109bedaefe1d82803180be393"
   }
  }
 },
 "nbformat": 4,
 "nbformat_minor": 2
}
