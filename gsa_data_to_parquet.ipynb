{
 "cells": [
  {
   "cell_type": "code",
   "execution_count": null,
   "metadata": {},
   "outputs": [],
   "source": [
    "import pandas as pd\n",
    "df = pd.read_excel('data\\\\GSA_info.xlsx', sheet_name=\"public_wells\")\n",
    "ps_codes = [i for i in df['PS Code'].unique()]"
   ]
  },
  {
   "cell_type": "code",
   "execution_count": null,
   "metadata": {},
   "outputs": [],
   "source": [
    "import polars as pl\n",
    "from pathlib import Path\n",
    "folder_path = Path(r\"C:\\Users\\Denver\\Downloads\\SWRCB_WQ\")\n",
    "\n",
    "dfs = [\n",
    "\tpl.read_csv(\n",
    "\t\tfile_path,\n",
    "\t\t# Default is , but the data is tab delimited\n",
    "\t\tsep=\"\\t\",\n",
    "\t\t# characters that are not valid utf8 will be ignored\n",
    "\t\tignore_errors=True,\n",
    "\t\t# this tries to guess what the data is but we will assume it is all strings\n",
    "\t\tinfer_schema_length=0\n",
    "\t\t# Assume all data is strings and remove leading and trailing whitespace\n",
    "\t\t).with_columns(\n",
    "\t\t\tpl.all().cast(pl.Utf8).str.strip() , strict=False\n",
    "\t\t\t).filter(pl.col('PS Code').str.strip().is_in(ps_codes))\n",
    "\t\t# do this for all .tab files in folder\n",
    "\t\tfor file_path in folder_path.glob('*.tab')\n",
    "\t\t]\n",
    "# combine all the dataframes into one\n",
    "df = pl.concat(dfs)\n",
    "# save as parquet\n",
    "df.write_parquet(folder_path.joinpath(\"gsa_swrcb_wq.parquet\"))"
   ]
  }
 ],
 "metadata": {
  "kernelspec": {
   "display_name": "Python 3.10.4 ('pandas-analysis-pSGX_PKJ-py3.10')",
   "language": "python",
   "name": "python3"
  },
  "language_info": {
   "name": "python",
   "version": "3.10.4"
  },
  "orig_nbformat": 4,
  "vscode": {
   "interpreter": {
    "hash": "017bf9b655c26cc9684d72cf80cbc3448421050109bedaefe1d82803180be393"
   }
  }
 },
 "nbformat": 4,
 "nbformat_minor": 2
}
