{
 "cells": [
  {
   "cell_type": "code",
   "execution_count": 2,
   "metadata": {},
   "outputs": [],
   "source": [
    "import polars as pl\n",
    "from pathlib import Path\n",
    "import plotly.express as px\n",
    "\n",
    "data_path = Path(\"data\")\n",
    "\n",
    "df = pl.read_parquet(\n",
    "\tdata_path.joinpath(\"gsa_swrcb_wq.parquet\")\n",
    "\t).select(\n",
    "\t\tpl.col(pl.Utf8).str.strip()\n",
    "\t\t\t\t).with_columns(\n",
    "\t\t\t\t\tpl.col(\"Sample Date\").str.strptime(pl.Date, fmt=\"%m-%d-%Y\").alias(\"Date\")\n",
    "\t\t\t\t\t).filter(\n",
    "\t\t\t\t\t\tpl.col('Date') > pl.date(2015,1,1)\n",
    "\t\t\t\t\t\t).sort(\"Date\", descending=True)"
   ]
  },
  {
   "cell_type": "code",
   "execution_count": 19,
   "metadata": {},
   "outputs": [],
   "source": [
    "df.filter(\n",
    "\tpl.col('PS Code') == \"CA1000465_001_001\"\n",
    ")['Analyte Name'].unique().to_pandas().to_clipboard()\n",
    "\n",
    "# [i for i in df['Analyte Name'].unique() if i is not None and i.find('Cl') != -1]"
   ]
  }
 ],
 "metadata": {
  "kernelspec": {
   "display_name": "Python 3.10.4 ('pandas-analysis-pSGX_PKJ-py3.10')",
   "language": "python",
   "name": "python3"
  },
  "language_info": {
   "codemirror_mode": {
    "name": "ipython",
    "version": 3
   },
   "file_extension": ".py",
   "mimetype": "text/x-python",
   "name": "python",
   "nbconvert_exporter": "python",
   "pygments_lexer": "ipython3",
   "version": "3.10.4"
  },
  "orig_nbformat": 4,
  "vscode": {
   "interpreter": {
    "hash": "017bf9b655c26cc9684d72cf80cbc3448421050109bedaefe1d82803180be393"
   }
  }
 },
 "nbformat": 4,
 "nbformat_minor": 2
}
